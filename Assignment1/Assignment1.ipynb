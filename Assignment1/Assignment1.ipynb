{
 "cells": [
  {
   "cell_type": "markdown",
   "metadata": {
    "colab_type": "text",
    "id": "view-in-github"
   },
   "source": [
    "<a href=\"https://colab.research.google.com/github/janchorowski/dl_uwr/blob/summer2020/Assignment1/Assignment1.ipynb\" target=\"_parent\"><img src=\"https://colab.research.google.com/assets/colab-badge.svg\" alt=\"Open In Colab\"/></a>"
   ]
  },
  {
   "cell_type": "markdown",
   "metadata": {
    "colab_type": "text",
    "id": "zAiECkYEaZn1"
   },
   "source": [
    "# Assignment 1\n",
    "\n",
    "## Important notes\n",
    "**Submission deadline:**\n",
    "* **Thursday, 12.03.2020**\n",
    "\n",
    "**Points: 13 + 2bp**"
   ]
  },
  {
   "cell_type": "markdown",
   "metadata": {
    "colab_type": "text",
    "id": "Bb0zN1GvapSt"
   },
   "source": [
    "This assignment is meant to test your skills in course pre-requisites:  Scientific Python programming and  Machine Learning. If it is hard, I strongly advise you to drop the course.\n",
    "\n",
    "Please use GitHub’s [pull requests](https://help.github.com/en/github/collaborating-with-issues-and-pull-requests/about-pull-requests) and issues to send corrections!\n",
    "\n",
    "You can solve the assignment in any system you like, but we encourage you to try out [Google Colab](https://colab.research.google.com/)."
   ]
  },
  {
   "cell_type": "markdown",
   "metadata": {
    "colab_type": "text",
    "id": "zIBf-IF_ahTI"
   },
   "source": [
    "## Assignment text\n",
    "1. **[1p]** Download data competition from a Kaggle competition on sentiment prediction from [[https://www.kaggle.com/c/sentiment-analysis-on-movie-reviews/data](https://www.kaggle.com/c/sentiment-analysis-on-movie-reviews/data)].  Keep only full sentences, i.e. for each `SenteceId` keep only the entry with the lowest `PhraseId`.  Use first 7000 sentences as a `train set` and the remaining 1529 sentences as the `test set`. \n",
    "\n",
    "2. **[1p]** Prepare the data for logistic regression:\n",
    "\tMap the sentiment scores $0,1,2,3,4$ to a probability of the sentence being by setting $p(\\textrm{positive}) = \\textrm{sentiment}/4$.\n",
    "\tBuild a dictionary of at most 20000 most frequent words.\n",
    "\n",
    "3. **[3p]** Treat each document as a bag of words. e.g. if the vocabulary is \n",
    "\t```\n",
    "\t0: the\n",
    "\t1: good\n",
    "\t2: movie\n",
    "\t3: is\n",
    "\t4: not\n",
    "\t5: a\n",
    "\t6: funny\n",
    "\t```\n",
    "\tThen the encodings can be:\n",
    "\t```\n",
    "\tgood:                           [0,1,0,0,0,0,0]\n",
    "\tnot good:                       [0,1,0,0,1,0,0] \n",
    "\tthe movie is not a funny movie: [1,0,2,1,1,1,1]\n",
    "\t```\n",
    "    Train a logistic regression model to predict the sentiment. Compute the correlation between the predicted probabilities and the sentiment. Record the most positive and negative words.\n",
    "    Please note that in this model each word gets its sentiment parameter $S_w$ and the score for a sentence is \n",
    "    $$\\text{score}(\\text{sentence}) = \\sum_{w\\text{ in sentence}}S_w$$\n",
    "\n",
    "4. **[3p]** Now prepare an encoding in which negation flips the sign of the following words. For instance for our vocabulary the encodings become:\n",
    "\t```\n",
    "\tgood:                           [0,1,0,0,0,0,0]\n",
    "\tnot good:                       [0,-1,0,0,1,0,0]\n",
    "\tnot not good:                   [0,1,0,0,0,0,0]\n",
    "\tthe movie is not a funny movie: [1,0,0,1,1,-1,-1]\n",
    "\t```\n",
    "\tFor best results, you will probably need to construct a list of negative words.\n",
    "\t\n",
    "\tAgain train a logistic regression classifier and compare the results to the Bag of Words approach.\n",
    "\t\n",
    "\tPlease note that this model still maintains a single parameter for each word, but now the sentence score is\n",
    "\t$$\\text{score}(\\text{sentence}) = \\sum_{w\\text{ in sentence}}-1^{\\text{count of negations preceeding }w}S_w$$\n",
    "\n",
    "5. **[5p]** Now also consider emphasizing words such as `very`. They can boost (multiply by a constant >1) the following words.\n",
    "\tImplement learning the modifying multiplier for negation and for emphasis. One way to do this is to introduce a model which has:\n",
    "\t- two modifiers, $N$ for negation and $E$ for emphasis\n",
    "\t- a sentiment score $S_w$ for each word \n",
    "And score each sentence as:\n",
    "$$\\text{score}(\\text{sentence}) = \\sum_{w\\text{ in sentence}}N^{\\text{\\#negs prec. }w}E^{\\text{\\#emphs prec. }w}S_w$$\n",
    "\n",
    "You will need to implement a custom logistic regression model to support it.\n",
    "\n",
    "6. **[2pb]** Propose, implement, and evaluate an extension to the above model.\n"
   ]
  },
  {
   "cell_type": "code",
   "execution_count": 1,
   "metadata": {},
   "outputs": [
    {
     "name": "stderr",
     "output_type": "stream",
     "text": [
      "/Users/michal/anaconda3/lib/python3.7/site-packages/ipykernel_launcher.py:10: SettingWithCopyWarning: \n",
      "A value is trying to be set on a copy of a slice from a DataFrame.\n",
      "Try using .loc[row_indexer,col_indexer] = value instead\n",
      "\n",
      "See the caveats in the documentation: http://pandas.pydata.org/pandas-docs/stable/indexing.html#indexing-view-versus-copy\n",
      "  # Remove the CWD from sys.path while we load stuff.\n",
      "/Users/michal/anaconda3/lib/python3.7/site-packages/ipykernel_launcher.py:11: SettingWithCopyWarning: \n",
      "A value is trying to be set on a copy of a slice from a DataFrame.\n",
      "Try using .loc[row_indexer,col_indexer] = value instead\n",
      "\n",
      "See the caveats in the documentation: http://pandas.pydata.org/pandas-docs/stable/indexing.html#indexing-view-versus-copy\n",
      "  # This is added back by InteractiveShellApp.init_path()\n"
     ]
    },
    {
     "data": {
      "text/html": [
       "<div>\n",
       "<style scoped>\n",
       "    .dataframe tbody tr th:only-of-type {\n",
       "        vertical-align: middle;\n",
       "    }\n",
       "\n",
       "    .dataframe tbody tr th {\n",
       "        vertical-align: top;\n",
       "    }\n",
       "\n",
       "    .dataframe thead th {\n",
       "        text-align: right;\n",
       "    }\n",
       "</style>\n",
       "<table border=\"1\" class=\"dataframe\">\n",
       "  <thead>\n",
       "    <tr style=\"text-align: right;\">\n",
       "      <th></th>\n",
       "      <th>PhraseId</th>\n",
       "      <th>SentenceId</th>\n",
       "      <th>Phrase</th>\n",
       "      <th>Sentiment</th>\n",
       "    </tr>\n",
       "  </thead>\n",
       "  <tbody>\n",
       "    <tr>\n",
       "      <th>0</th>\n",
       "      <td>1</td>\n",
       "      <td>1</td>\n",
       "      <td>[a, series, of, escapades, demonstrating, the,...</td>\n",
       "      <td>0.25</td>\n",
       "    </tr>\n",
       "    <tr>\n",
       "      <th>63</th>\n",
       "      <td>64</td>\n",
       "      <td>2</td>\n",
       "      <td>[this, quiet, ,, introspective, and, entertain...</td>\n",
       "      <td>1.00</td>\n",
       "    </tr>\n",
       "    <tr>\n",
       "      <th>81</th>\n",
       "      <td>82</td>\n",
       "      <td>3</td>\n",
       "      <td>[even, fans, of, ismail, merchant, 's, work, ,...</td>\n",
       "      <td>0.25</td>\n",
       "    </tr>\n",
       "    <tr>\n",
       "      <th>116</th>\n",
       "      <td>117</td>\n",
       "      <td>4</td>\n",
       "      <td>[a, positively, thrilling, combination, of, et...</td>\n",
       "      <td>0.75</td>\n",
       "    </tr>\n",
       "    <tr>\n",
       "      <th>156</th>\n",
       "      <td>157</td>\n",
       "      <td>5</td>\n",
       "      <td>[aggressive, self-glorification, and, a, manip...</td>\n",
       "      <td>0.25</td>\n",
       "    </tr>\n",
       "  </tbody>\n",
       "</table>\n",
       "</div>"
      ],
      "text/plain": [
       "     PhraseId  SentenceId                                             Phrase  \\\n",
       "0           1           1  [a, series, of, escapades, demonstrating, the,...   \n",
       "63         64           2  [this, quiet, ,, introspective, and, entertain...   \n",
       "81         82           3  [even, fans, of, ismail, merchant, 's, work, ,...   \n",
       "116       117           4  [a, positively, thrilling, combination, of, et...   \n",
       "156       157           5  [aggressive, self-glorification, and, a, manip...   \n",
       "\n",
       "     Sentiment  \n",
       "0         0.25  \n",
       "63        1.00  \n",
       "81        0.25  \n",
       "116       0.75  \n",
       "156       0.25  "
      ]
     },
     "execution_count": 1,
     "metadata": {},
     "output_type": "execute_result"
    }
   ],
   "source": [
    "import pandas as pd\n",
    "import numpy as np\n",
    "from itertools import chain\n",
    "from collections import Counter\n",
    "import re\n",
    "\n",
    "pattern = re.compile('[\\W_]+')\n",
    "first_data = pd.read_csv(\"train.tsv\", delimiter='\\t')\n",
    "data=first_data.iloc[first_data.groupby('SentenceId')[\"PhraseId\"].idxmin()]\n",
    "data['Sentiment'] = data['Sentiment'].apply(lambda x: x / (4 + 0.00000001) + 0.000000001)\n",
    "data[\"Phrase\"] = data[\"Phrase\"].apply(lambda x: x.lower().strip().split())\n",
    "data.head()"
   ]
  },
  {
   "cell_type": "code",
   "execution_count": 2,
   "metadata": {},
   "outputs": [],
   "source": [
    "word_frequency = dict(sorted(Counter(list(chain(*data['Phrase']))).items(), key=lambda x: -x[1]))\n",
    "word_codes = dict(zip(word_frequency.keys(), range(len(word_frequency))))\n",
    "rev_word_codes = {word_codes[k]: k for k in word_codes}\n",
    "\n",
    "negative_words = [\n",
    "\"no\",\n",
    "\"not\",\n",
    "\"none\",\n",
    "\"nobody\",\n",
    "\"nothing\",\n",
    "\"neither\",\n",
    "\"nowhere\",\n",
    "\"never\",\n",
    "\"hardly\",\n",
    "\"scarcely\",\n",
    "\"barely\",\n",
    "\"doesn’t\",\n",
    "\"isn’t\",\n",
    "\"wasn’t\",\n",
    "\"shouldn’t\",\n",
    "\"wouldn’t\",\n",
    "\"couldn’t\",\n",
    "\"won’t\",\n",
    "\"can’t\",\n",
    "\"don’t\",\n",
    "]\n",
    "def word_embedding(sentence):\n",
    "    vec = np.zeros(len(word_codes)).astype(int)\n",
    "    for word in sentence:\n",
    "        if word in word_codes:\n",
    "            vec[word_codes[word]] += 1\n",
    "    return vec\n",
    "\n",
    "def word_embedding_with_negation(sentence):\n",
    "    vec = np.zeros(len(word_codes)).astype(int)\n",
    "    for word, previous_word in zip(sentence, ['none'] + sentence):\n",
    "        if word in word_codes:\n",
    "            if previous_word in negative_words:\n",
    "                vec[word_codes[word]] -= 1\n",
    "            else:\n",
    "                vec[word_codes[word]] += 1\n",
    "#             vec[word_codes[word]] += 1 if previous_word not in negative_words else -1\n",
    "    return vec"
   ]
  },
  {
   "cell_type": "code",
   "execution_count": 3,
   "metadata": {},
   "outputs": [
    {
     "name": "stderr",
     "output_type": "stream",
     "text": [
      "/Users/michal/anaconda3/lib/python3.7/site-packages/ipykernel_launcher.py:1: SettingWithCopyWarning: \n",
      "A value is trying to be set on a copy of a slice from a DataFrame.\n",
      "Try using .loc[row_indexer,col_indexer] = value instead\n",
      "\n",
      "See the caveats in the documentation: http://pandas.pydata.org/pandas-docs/stable/indexing.html#indexing-view-versus-copy\n",
      "  \"\"\"Entry point for launching an IPython kernel.\n",
      "/Users/michal/anaconda3/lib/python3.7/site-packages/ipykernel_launcher.py:2: SettingWithCopyWarning: \n",
      "A value is trying to be set on a copy of a slice from a DataFrame.\n",
      "Try using .loc[row_indexer,col_indexer] = value instead\n",
      "\n",
      "See the caveats in the documentation: http://pandas.pydata.org/pandas-docs/stable/indexing.html#indexing-view-versus-copy\n",
      "  \n"
     ]
    },
    {
     "data": {
      "text/html": [
       "<div>\n",
       "<style scoped>\n",
       "    .dataframe tbody tr th:only-of-type {\n",
       "        vertical-align: middle;\n",
       "    }\n",
       "\n",
       "    .dataframe tbody tr th {\n",
       "        vertical-align: top;\n",
       "    }\n",
       "\n",
       "    .dataframe thead th {\n",
       "        text-align: right;\n",
       "    }\n",
       "</style>\n",
       "<table border=\"1\" class=\"dataframe\">\n",
       "  <thead>\n",
       "    <tr style=\"text-align: right;\">\n",
       "      <th></th>\n",
       "      <th>PhraseId</th>\n",
       "      <th>SentenceId</th>\n",
       "      <th>Phrase</th>\n",
       "      <th>Sentiment</th>\n",
       "      <th>codes</th>\n",
       "      <th>neg_codes</th>\n",
       "    </tr>\n",
       "  </thead>\n",
       "  <tbody>\n",
       "    <tr>\n",
       "      <th>0</th>\n",
       "      <td>1</td>\n",
       "      <td>1</td>\n",
       "      <td>[a, series, of, escapades, demonstrating, the,...</td>\n",
       "      <td>0.25</td>\n",
       "      <td>[1, 3, 1, 2, 0, 4, 1, 2, 0, 0, 1, 0, 0, 1, 0, ...</td>\n",
       "      <td>[1, 3, 1, 0, 0, 2, 1, 2, 0, 0, 1, 0, 0, 1, 0, ...</td>\n",
       "    </tr>\n",
       "    <tr>\n",
       "      <th>63</th>\n",
       "      <td>64</td>\n",
       "      <td>2</td>\n",
       "      <td>[this, quiet, ,, introspective, and, entertain...</td>\n",
       "      <td>1.00</td>\n",
       "      <td>[1, 0, 1, 0, 1, 0, 0, 1, 0, 0, 0, 0, 0, 0, 0, ...</td>\n",
       "      <td>[1, 0, 1, 0, 1, 0, 0, 1, 0, 0, 0, 0, 0, 0, 0, ...</td>\n",
       "    </tr>\n",
       "    <tr>\n",
       "      <th>81</th>\n",
       "      <td>82</td>\n",
       "      <td>3</td>\n",
       "      <td>[even, fans, of, ismail, merchant, 's, work, ,...</td>\n",
       "      <td>0.25</td>\n",
       "      <td>[1, 0, 2, 1, 0, 1, 0, 0, 1, 0, 0, 0, 0, 0, 0, ...</td>\n",
       "      <td>[1, 0, 2, 1, 0, 1, 0, 0, 1, 0, 0, 0, 0, 0, 0, ...</td>\n",
       "    </tr>\n",
       "    <tr>\n",
       "      <th>116</th>\n",
       "      <td>117</td>\n",
       "      <td>4</td>\n",
       "      <td>[a, positively, thrilling, combination, of, et...</td>\n",
       "      <td>0.75</td>\n",
       "      <td>[1, 1, 2, 3, 2, 2, 0, 0, 0, 0, 0, 0, 0, 0, 0, ...</td>\n",
       "      <td>[1, 1, 2, 1, 2, 2, 0, 0, 0, 0, 0, 0, 0, 0, 0, ...</td>\n",
       "    </tr>\n",
       "    <tr>\n",
       "      <th>156</th>\n",
       "      <td>157</td>\n",
       "      <td>5</td>\n",
       "      <td>[aggressive, self-glorification, and, a, manip...</td>\n",
       "      <td>0.25</td>\n",
       "      <td>[1, 0, 0, 1, 1, 0, 0, 0, 0, 0, 0, 0, 0, 0, 0, ...</td>\n",
       "      <td>[1, 0, 0, 1, 1, 0, 0, 0, 0, 0, 0, 0, 0, 0, 0, ...</td>\n",
       "    </tr>\n",
       "  </tbody>\n",
       "</table>\n",
       "</div>"
      ],
      "text/plain": [
       "     PhraseId  SentenceId                                             Phrase  \\\n",
       "0           1           1  [a, series, of, escapades, demonstrating, the,...   \n",
       "63         64           2  [this, quiet, ,, introspective, and, entertain...   \n",
       "81         82           3  [even, fans, of, ismail, merchant, 's, work, ,...   \n",
       "116       117           4  [a, positively, thrilling, combination, of, et...   \n",
       "156       157           5  [aggressive, self-glorification, and, a, manip...   \n",
       "\n",
       "     Sentiment                                              codes  \\\n",
       "0         0.25  [1, 3, 1, 2, 0, 4, 1, 2, 0, 0, 1, 0, 0, 1, 0, ...   \n",
       "63        1.00  [1, 0, 1, 0, 1, 0, 0, 1, 0, 0, 0, 0, 0, 0, 0, ...   \n",
       "81        0.25  [1, 0, 2, 1, 0, 1, 0, 0, 1, 0, 0, 0, 0, 0, 0, ...   \n",
       "116       0.75  [1, 1, 2, 3, 2, 2, 0, 0, 0, 0, 0, 0, 0, 0, 0, ...   \n",
       "156       0.25  [1, 0, 0, 1, 1, 0, 0, 0, 0, 0, 0, 0, 0, 0, 0, ...   \n",
       "\n",
       "                                             neg_codes  \n",
       "0    [1, 3, 1, 0, 0, 2, 1, 2, 0, 0, 1, 0, 0, 1, 0, ...  \n",
       "63   [1, 0, 1, 0, 1, 0, 0, 1, 0, 0, 0, 0, 0, 0, 0, ...  \n",
       "81   [1, 0, 2, 1, 0, 1, 0, 0, 1, 0, 0, 0, 0, 0, 0, ...  \n",
       "116  [1, 1, 2, 1, 2, 2, 0, 0, 0, 0, 0, 0, 0, 0, 0, ...  \n",
       "156  [1, 0, 0, 1, 1, 0, 0, 0, 0, 0, 0, 0, 0, 0, 0, ...  "
      ]
     },
     "execution_count": 3,
     "metadata": {},
     "output_type": "execute_result"
    }
   ],
   "source": [
    "data['codes'] = data['Phrase'].apply(word_embedding)\n",
    "data['neg_codes'] = data['Phrase'].apply(word_embedding_with_negation)\n",
    "data.head()"
   ]
  },
  {
   "cell_type": "code",
   "execution_count": 52,
   "metadata": {},
   "outputs": [],
   "source": [
    "%matplotlib inline\n",
    "from sklearn.linear_model import LinearRegression, LogisticRegression\n",
    "import itertools\n",
    "import matplotlib.pyplot as plt\n",
    "\n",
    "class LogitRegression(LinearRegression):\n",
    "\n",
    "    def fit(self, x, p):\n",
    "        p = np.asarray(p)\n",
    "        y = np.log(p / (1 - p))\n",
    "        return super().fit(x, y)\n",
    "\n",
    "    def predict(self, x):\n",
    "        y = super().predict(x)\n",
    "        return 1 / (np.exp(-y) + 1)\n",
    "    \n",
    "class LogisticProbRegression(LogisticRegression):\n",
    "    targets = { x1: [0] * (4 - x1) + [1] * x1 for x1 in range(5)}\n",
    "    def fit(self, x, p):\n",
    "        X = np.repeat(x, repeats=4, axis=0)\n",
    "        p = (p * 4.1).astype(int)\n",
    "        y = np.array(list(itertools.chain.from_iterable([self.targets[_x] for _x in p])))\n",
    "        return super().fit(X, y)\n",
    "\n",
    "\n",
    "c2w = lambda x: [rev_word_codes[x2] for x2 in x]\n",
    "\n",
    "    \n",
    "def train(data, target, num_of_train, clf_class=LogitRegression):\n",
    "    data = np.array(data.tolist())\n",
    "    target = np.array(target)\n",
    "    X = data[:num_of_train]\n",
    "    y = target[:num_of_train]\n",
    "    test_X = data[num_of_train:]\n",
    "    test_y = target[num_of_train:]\n",
    "    clf = clf_class()\n",
    "    clf.fit(X, y)\n",
    "    predicted = clf.predict(test_X)\n",
    "    plt.scatter((test_y * 4.1).astype(int), predicted)\n",
    "\n",
    "    pos = [np.mean(predicted[(test_y * 4.1).astype(int) == x]) for x in range(5)]\n",
    "    plt.plot(range(5), pos, label='Avarage')\n",
    "    plt.plot(range(5), np.arange(5.)/4, label='ideal')\n",
    "    plt.legend()\n",
    "    print(np.correlate(predicted, test_y))\n",
    "    \n",
    "    argsorted = np.argsort(clf.predict(np.eye(X.shape[1])))\n",
    "    print('Negative:')\n",
    "    print(c2w(list(argsorted[:50])))\n",
    "    print(\"Positive:\")\n",
    "    print(c2w(list(argsorted[-50:])))\n",
    "\n",
    "    return clf, test_X, test_y"
   ]
  },
  {
   "cell_type": "code",
   "execution_count": 53,
   "metadata": {},
   "outputs": [
    {
     "name": "stdout",
     "output_type": "stream",
     "text": [
      "[471.05318259]\n",
      "Negative:\n",
      "['disturb', 'waltz', 'stagey', 'disagree', 'scrutinize', 'doubting', 'hipness', 'toughest', 'conversion', 'hoult', 'shortest', 'promisingly', 'setpieces', 'gained', 'demonstrates', 'inspire', 'harm', 'oops', 'ripping', 'prettiest', 'dodge', 'reference', 'stinks', 'graceless', 'brings', 'monsterous', 'describes', 'broken', 'cynic', 'sacrifice', 'admiring', 'zip', 'distance', 'pushes', 'ignoring', 'repeating', 'battlefield', 'accurate', 'risks', 'rent', 'inhuman', 'downhill', 'open', 'joyless', 'releasing', 'x-men', 'direct', 'control-alt-delete', 'thousand', 'scuttled']\n",
      "Positive:\n",
      "['notable', 'evolving', 'actresses', 'interminably', 'crave', 'dog-paddle', 'convince', 'punch-drunk', 'mehta', 'snatch', 'righteousness', 'unpersuasive', 'wolfe', 'twenty-first', 'slightest', 'awfully', 'juxtapositions', 'genres', 'career-defining', 'orson', 'monotonous', 'evidence', 'brazenly', 'farts', 'happiness', 'conjured', 'whodunit', 'swimfan', 'humble', 'closure', 'remembrance', 'rosenthal', 'deniro', 'wills', 'whitaker', 'critic-proof', 'narrated', 'recharged', 'courtroom', 'conscience', 'frighten', 'persistence', 'yielded', 'forcefully', '77', 'kev', 'tomfoolery', 'judgment', 'symbiotic', 'placement']\n"
     ]
    },
    {
     "data": {
      "image/png": "[encoded data removed]",
      "text/plain": [
       "<Figure size 432x288 with 1 Axes>"
      ]
     },
     "metadata": {
      "needs_background": "light"
     },
     "output_type": "display_data"
    }
   ],
   "source": [
    "clf, test_X, test_y = train(data['codes'], data['Sentiment'], 7000)"
   ]
  },
  {
   "cell_type": "code",
   "execution_count": 54,
   "metadata": {},
   "outputs": [
    {
     "name": "stderr",
     "output_type": "stream",
     "text": [
      "/Users/michal/anaconda3/lib/python3.7/site-packages/sklearn/linear_model/logistic.py:432: FutureWarning: Default solver will be changed to 'lbfgs' in 0.22. Specify a solver to silence this warning.\n",
      "  FutureWarning)\n"
     ]
    },
    {
     "name": "stdout",
     "output_type": "stream",
     "text": [
      "[533.99999947]\n",
      "Negative:\n",
      "['embarrassingly', 'amini', 'reconceptualize', 'cineasts', 'in-jokes', 'harvey', 'weinstein', 'bluff', 'rigors', 'denmark', 'dogma', 'splendour', 'k.', 'calculations', 'buying', 'refracting', 'hated', 'jaw-dropping', 'boffo', 'rough-hewn', 'andie', 'gamely', 'clean-cut', 'fiendish', 'hossein', 'schiffer', \"c'mon\", 'undertaken', 'lawmen', 'punchlines', 'fudged', 'gigantic', 'lunar', 'imbue', 'ramble', 'beresford', 'smarter-than-thou', 'propriety-obsessed', 'societal', 'psychologizing', 'galled', 'patriotic', 'strategic', 'dramatizing', 'define', 'straddle', 'graze', 'consciously', 'folktales', 'twinkly-eyed']\n",
      "Positive:\n",
      "['lift', 'kick', 'neighborhood', 'gut', 'melancholia', 'arliss', 'stanzas', 'orbit', '3-d', 'kev', 'jarring', 'ravishing', 'motorized', 'die-hard', 'and\\\\/or', 'hard-hearted', 'ignored', 'columbine', 'grungy', 'bravura', 'teasing', 'adage', 'dewy-eyed', 'unsolved', 'pearce', 'crowd-pleasing', 'estrogen-free', 'spotlights', 'charged', 'vulakoro', 'rusi', 'diver', 'fiji', 'legendary', 'spans', 'overdoing', 'semi-stable', 'purposeful', 'respites', 'rifkin', 'lit', 'mothers', 'salton', 'champagne', 'intermezzo', 'eve', 'all-male', 'acidic', 'moulin', '.']\n"
     ]
    },
    {
     "data": {
      "image/png": "[encoded data removed]",
      "text/plain": [
       "<Figure size 432x288 with 1 Axes>"
      ]
     },
     "metadata": {
      "needs_background": "light"
     },
     "output_type": "display_data"
    }
   ],
   "source": [
    "clf, test_X, test_y = train(data['codes'], data['Sentiment'], 7000, LogisticProbRegression)"
   ]
  },
  {
   "cell_type": "code",
   "execution_count": 55,
   "metadata": {},
   "outputs": [
    {
     "name": "stdout",
     "output_type": "stream",
     "text": [
      "[430.62820175]\n",
      "Negative:\n",
      "['school-age', 'allowed', 'talky', 'operative', 'tunney', 'alienating', 'choose', 'solaris', 'macabre', 'enjoys', 'fast', 'caught', 'modernized', 'tonto', 'expects', 'image', 'games', 'fervid', 'dupe', 'chimps', 'saved', 'tongue', 'relate', 'flatter', 'introduction', 'intellectually', 'pissed', 'decides', 'absorb', 'answering', 'producing', 'sanitised', 'releasing', 'improvised', 'diminishing', 'siuation', '1989', 'tunisian', 'lousy', 'started', 'fail', 'pray', 'freaky', 'ah-nuld', 'frantic', 'eastwood', 'pierce', 'unless', 'purr', \"'til\"]\n",
      "Positive:\n",
      "['catharsis', 'wishful', 'patriot', 'plodding', 'aside', 'idiotic', 'skill', 'establishes', 'scratches', 'double-cross', 'offended', 'itch', 'infused', 'protagonist', 'beat', 'action\\\\/comedy', 'canvas', 'resolved', 'inspires', 'blandly', 'delivered', 'comment', 'frothy', 'notice', 'drawers', 'andrei', 'twisted', 'codes', 'maguire', 'off-kilter', 'accident-prone', 'superb', 'achieves', 'stainton', 'grinning', 'public', 'navigates', 'astray', 'effortless', 'awkwardness', 'gem', 'creating', 'blustery', 'equivalent', 'loquacious', 'superbly', 'filmgoers', 'shearer', 'respect', 'creeps']\n"
     ]
    },
    {
     "data": {
      "image/png": "[encoded data removed]",
      "text/plain": [
       "<Figure size 432x288 with 1 Axes>"
      ]
     },
     "metadata": {
      "needs_background": "light"
     },
     "output_type": "display_data"
    }
   ],
   "source": [
    "clf, test_X, test_y = train(data['neg_codes'], data['Sentiment'], 7000)"
   ]
  },
  {
   "cell_type": "code",
   "execution_count": 56,
   "metadata": {},
   "outputs": [
    {
     "name": "stderr",
     "output_type": "stream",
     "text": [
      "/Users/michal/anaconda3/lib/python3.7/site-packages/sklearn/linear_model/logistic.py:432: FutureWarning: Default solver will be changed to 'lbfgs' in 0.22. Specify a solver to silence this warning.\n",
      "  FutureWarning)\n"
     ]
    },
    {
     "name": "stdout",
     "output_type": "stream",
     "text": [
      "[512.24999951]\n",
      "Negative:\n",
      "['.', 'techno-tripe', 'calculus', 'm.i.t.', 'equations', 'long-winded', 'discoveries', 'not-at-all-good', 'jostling', 'elbowed', 'rotoscope', 'christine', 'sylvie', 'icily', 'prehistoric', 'reverberates', 'dispel', 'stodgy', 'teleprompter', 'anton', 'ick', 'despairingly', 'infuriatingly', 'rash', 'day-old', 'location', 'bender', 'single-minded', 'tequila', 'burrito', 'origin', 'road-and-buddy', 'all-inclusive', 'uptight', 'bores', 'literarily', 'description', 'high-powered', 'fetid', 'uglier', 'kuras', 'cross-cultural', 'swathe', 'retaining', 'refusing', 'painkillers', 'anti-human', 'miles', 'graceland', 'thirty-three']\n",
      "Positive:\n",
      "['1957', 'reflected', 'exploits', 'hack-and-slash', 'recognizably', 'freedom', 'trims', 'tortured', 'immediate', 'oddity', 'anthony', 'lured', 'indieflick', 'glorious', 'revelation', 'william', 'masterly', 'mountain', 'aliens', 'sport', 'jessica', 'held', 'upper', 'pleaser', 'faked', 'streamlined', 'spain', 'amicable', 'ado', 'tactics', 'kids-cute', 'cartoons', 'communications', 'integrates', 'unexceptional', 'integrated', 'extant', 'pre', 'delirium', 'typifies', 'pasta-fagioli', 'surface-obsession', 'tambor', 'heart-felt', 'preciseness', 'lovers', 'compels', 'infatuation', 'deliberative', 'courtesy']\n"
     ]
    },
    {
     "data": {
      "image/png": "[encoded data removed]",
      "text/plain": [
       "<Figure size 432x288 with 1 Axes>"
      ]
     },
     "metadata": {
      "needs_background": "light"
     },
     "output_type": "display_data"
    }
   ],
   "source": [
    "clf, test_X, test_y = train(data['neg_codes'], data['Sentiment'], 7000, LogisticProbRegression)"
   ]
  },
  {
   "cell_type": "code",
   "execution_count": null,
   "metadata": {},
   "outputs": [],
   "source": []
  }
 ],
 "metadata": {
  "colab": {
   "authorship_tag": "ABX9TyOq9DmD52l9ZwYdGlCpK8hb",
   "include_colab_link": true,
   "name": "Assignment1.ipynb",
   "provenance": []
  },
  "kernelspec": {
   "display_name": "Python 3",
   "language": "python",
   "name": "python3"
  },
  "language_info": {
   "codemirror_mode": {
    "name": "ipython",
    "version": 3
   },
   "file_extension": ".py",
   "mimetype": "text/x-python",
   "name": "python",
   "nbconvert_exporter": "python",
   "pygments_lexer": "ipython3",
   "version": "3.7.3"
  }
 },
 "nbformat": 4,
 "nbformat_minor": 1
}
