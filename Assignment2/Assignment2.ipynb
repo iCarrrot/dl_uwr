{
 "cells": [
  {
   "cell_type": "markdown",
   "metadata": {
    "colab_type": "text",
    "id": "view-in-github"
   },
   "source": [
    "<a href=\"https://colab.research.google.com/github/janchorowski/dl_uwr/blob/summer2020/Assignment2/Assignment2.ipynb\" target=\"_parent\"><img src=\"https://colab.research.google.com/assets/colab-badge.svg\" alt=\"Open In Colab\"/></a>"
   ]
  },
  {
   "cell_type": "markdown",
   "metadata": {
    "colab_type": "text",
    "id": "CGXgWugfJ0Vl"
   },
   "source": [
    "# Assignment 2\n",
    "\n",
    "**Submission deadline: last lab session before or on Thursday, 26.03.2020**\n",
    "\n",
    "**Points: 6 + 1 bonus points**\n",
    "\n",
    "## Submission instructions\n",
    "The class is held remotely. To sumbmit your solutions please save the notebook to your Google Drive, then:\n",
    "1. Rename it it to: Assignment2_Surname_FirstName\n",
    "2. Rerun the whole notebook `Runtime -> Restar and run all`\n",
    "3. Make a pinned revision `File->Save and pin revision`\n",
    "4. Share the notebook with your instructor using his `cs.uni.wroc.pl` email\n",
    "\n",
    "We will use the commenting system and video conferences to check and discuss the solutions.\n",
    "\n",
    "As always, please submit corrections using GitHub's Pull Requests."
   ]
  },
  {
   "cell_type": "code",
   "execution_count": 1,
   "metadata": {
    "colab": {},
    "colab_type": "code",
    "id": "nfVDe-bMqVT_"
   },
   "outputs": [],
   "source": [
    "%matplotlib inline"
   ]
  },
  {
   "cell_type": "code",
   "execution_count": 2,
   "metadata": {
    "colab": {},
    "colab_type": "code",
    "id": "YiTEWD2oqW0Y"
   },
   "outputs": [],
   "source": [
    "import numpy as np\n",
    "import matplotlib.pyplot as plt\n",
    "from collections import defaultdict\n",
    "from tqdm import tqdm"
   ]
  },
  {
   "cell_type": "markdown",
   "metadata": {
    "colab_type": "text",
    "id": "RZCM_hdELE04"
   },
   "source": [
    "The code below contains a mock-up of a two-layer neural network. Fill in the code and manually set weights to solve the XOR problem.\n",
    "\n",
    "Please note: the shapes are set to be compatible with PyTorch's conventions:\n",
    "* a batch containing $N$ $D$-dimensional examples has shape $N\\times D$ (each example is a row!)\n",
    "* a weight matrix in a linear layer with $I$ inputs and $O$ outputs has shape $O \\times I$\n",
    "* a bias vector is a 1D vector. Please note that [broadcasting rules](https://docs.scipy.org/doc/numpy/user/basics.broadcasting.html) allow us to think about it as a $1 \\times D$ matrix."
   ]
  },
  {
   "cell_type": "code",
   "execution_count": 3,
   "metadata": {
    "colab": {
     "base_uri": "https://localhost:8080/",
     "height": 296
    },
    "colab_type": "code",
    "id": "lYEbCfbSpv5M",
    "outputId": "f00ddeb4-b61c-4e0d-d1d4-f7fdfca62930"
   },
   "outputs": [
    {
     "data": {
      "text/plain": [
       "Text(0, 0.5, 'X[1]')"
      ]
     },
     "execution_count": 3,
     "metadata": {},
     "output_type": "execute_result"
    },
    {
     "data": {
      "image/png": "[encoded data removed]",
      "text/plain": [
       "<Figure size 432x288 with 1 Axes>"
      ]
     },
     "metadata": {
      "needs_background": "light"
     },
     "output_type": "display_data"
    }
   ],
   "source": [
    "# Let's define a XOR dataset\n",
    "\n",
    "# X will be matrix of N 2-dimensional inputs\n",
    "X = np.array(\n",
    "    [[0, 0],\n",
    "     [0, 1],\n",
    "     [1, 0],\n",
    "     [1, 1],\n",
    "    ], dtype=np.float32)\n",
    "# Y is a matrix of N numners - answers\n",
    "Y = np.array(\n",
    "    [[0],\n",
    "     [1],\n",
    "     [1],\n",
    "     [0],\n",
    "    ], dtype=np.float32)\n",
    "\n",
    "plt.scatter(X[:,0], X[:,1], c=Y[:,0], )\n",
    "plt.xlabel('X[0]')\n",
    "plt.ylabel('X[1]')\n"
   ]
  },
  {
   "cell_type": "markdown",
   "metadata": {
    "colab_type": "text",
    "id": "Rb3azMn929_I"
   },
   "source": [
    "# Problem 1 [2p]\n",
    "\n",
    "Fill in the details of a forward pass, then manually set the weights and biases in the network to solve the 2D XOR task defined above."
   ]
  },
  {
   "cell_type": "code",
   "execution_count": 4,
   "metadata": {
    "colab": {},
    "colab_type": "code",
    "id": "lrrRuk6zLiF0"
   },
   "outputs": [],
   "source": [
    "def sigmoid(x):\n",
    "    return 1 / (1 + np.e ** -x)\n",
    "\n",
    "class SmallNet:\n",
    "    def __init__(self, in_features, num_hidden, dtype=np.float32):\n",
    "        self.W1 = np.zeros((num_hidden, in_features), dtype=dtype)\n",
    "        self.b1 = np.zeros((num_hidden, ), dtype=dtype)\n",
    "        self.W2 = np.zeros((1, num_hidden), dtype=dtype)\n",
    "        self.b2 = np.zeros((1,), dtype=dtype)\n",
    "        self.init_params()\n",
    "\n",
    "    def init_params(self):\n",
    "        # TODO Problem 2:\n",
    "        # set all parameters to small random values, e.g. from N(0, 0.5)\n",
    "        self.W1 += np.random.randn(*self.W1.shape) / 2\n",
    "        self.b1 += np.random.randn(*self.b1.shape) / 2\n",
    "        self.W2 += np.random.randn(*self.W2.shape) / 2\n",
    "        self.b2 += np.random.randn(*self.b2.shape) / 2\n",
    "\n",
    "    def forward(self, X, Y=None, do_backward=False):\n",
    "        # TODO Problem 1: Fill in details of forward propagation\n",
    "\n",
    "        # Input to neurons in 1st layer\n",
    "        A1 = X @ self.W1.T + self.b1\n",
    "        # Outputs after the sigmoid non-linearity\n",
    "        O1 = sigmoid(A1)\n",
    "        \n",
    "        # Inputs to neuron in the second layer\n",
    "        A2 = O1 @ self.W2.T + self.b2\n",
    "        # Outputs after the sigmoid non-linearity\n",
    "        O2 = sigmoid(A2)\n",
    "        \n",
    "        if Y is not None:\n",
    "            loss = -Y * np.log(O2) - (1-Y) * np.log(1-O2) # TODO_cross-entropy_loss\n",
    "            # normalize loss by batch size\n",
    "            loss = loss.sum() / X.shape[0]\n",
    "        else:\n",
    "            loss = np.nan\n",
    "\n",
    "        if do_backward:\n",
    "            # TODO in Problem 2: fill in the gradient computation\n",
    "            # Please note, thate there is a correspondance between\n",
    "            # the forward and backward pass: with backward computations happening\n",
    "            # in reversed order. \n",
    "\n",
    "            # A2_grad is the gradient of loss with respect to A2\n",
    "            # Hint: there is a concise formula for the gradient \n",
    "            # of logistic sigmoid and cross-entropy loss \n",
    "            O2_grad = - Y / (O2 + 1e-100) + (1-Y)/(1-O2+ 1e-100)\n",
    "            A2_grad: O2 = O2_grad * sigmoid(A2) * (1-sigmoid(A2)) / X.shape[0]\n",
    "            self.b2_grad = A2_grad.sum(0)\n",
    "            self.W2_grad: O2 = A2_grad.T @ O1\n",
    "            O1_grad: O2 = A2_grad * self.W2\n",
    "            A1_grad: O2 = O1_grad * sigmoid(A1) * (1-sigmoid(A1))\n",
    "            self.b1_grad: O2 = A1_grad.sum(0)\n",
    "            self.W1_grad: O2 = A1_grad.T @ X\n",
    "\n",
    "\n",
    "        return O2, loss"
   ]
  },
  {
   "cell_type": "code",
   "execution_count": 5,
   "metadata": {
    "colab": {
     "base_uri": "https://localhost:8080/",
     "height": 85
    },
    "colab_type": "code",
    "id": "jJswvBk0oiIY",
    "outputId": "331c7ce6-a3ad-4121-f6e1-d09d5ab6bcfd"
   },
   "outputs": [
    {
     "name": "stderr",
     "output_type": "stream",
     "text": [
      "/Users/michal/anaconda3/lib/python3.7/site-packages/ipykernel_launcher.py:34: RuntimeWarning: divide by zero encountered in log\n",
      "/Users/michal/anaconda3/lib/python3.7/site-packages/ipykernel_launcher.py:34: RuntimeWarning: invalid value encountered in multiply\n"
     ]
    },
    {
     "data": {
      "text/plain": [
       "(array([[7.85990747e-09],\n",
       "        [1.00000000e+00],\n",
       "        [1.00000000e+00],\n",
       "        [7.85990747e-09]]), nan)"
      ]
     },
     "execution_count": 5,
     "metadata": {},
     "output_type": "execute_result"
    },
    {
     "data": {
      "image/png": "[encoded data removed]",
      "text/plain": [
       "<Figure size 432x288 with 2 Axes>"
      ]
     },
     "metadata": {
      "needs_background": "light"
     },
     "output_type": "display_data"
    }
   ],
   "source": [
    "# TODO Problem 1:\n",
    "# Set by hand the weight values to solve the XOR problem\n",
    "\n",
    "net = SmallNet(2, 2, dtype=np.float64)\n",
    "net.W1 = np.array([[10,10], [10,10]])\n",
    "net.b1 = np.array([-5, -15])\n",
    "net.W2 = np.array([[200, -200]])\n",
    "net.b2 = np.array([-20])\n",
    "\n",
    "# Hint: since we use the logistic sigmoid activation, the weights may need to \n",
    "# be fairly large \n",
    " \n",
    "sh = 100\n",
    "xx, yy = np.meshgrid(np.linspace(-0.5,1.5,sh), np.linspace(-0.5,1.5,sh))\n",
    "tmp_X = np.vstack([xx.ravel(), yy.ravel()]).T\n",
    "c = net.forward(tmp_X, None, do_backward=False)[0]\n",
    "plt.scatter(xx.ravel(), yy.ravel(), c=c.ravel())\n",
    "plt.colorbar()\n",
    "plt.scatter(X[:, 0], X[:, 1], c='r')\n",
    "\n",
    "\n",
    "net.forward(X, Y, do_backward=True)"
   ]
  },
  {
   "cell_type": "markdown",
   "metadata": {
    "colab_type": "text",
    "id": "wmxCi5Vl6_xB"
   },
   "source": [
    "# Problem 2 [2p]\n",
    "\n",
    "1. Fill in the backward pass.\n",
    "2. Implement random initialization of network parameters.\n",
    "3. Using `float64` verify correctness of your backward pass."
   ]
  },
  {
   "cell_type": "code",
   "execution_count": 6,
   "metadata": {
    "colab": {},
    "colab_type": "code",
    "id": "eSM5hgJ1mrhY"
   },
   "outputs": [],
   "source": [
    "def check_grad(net, param_name, X, Y, eps=1e-5):\n",
    "    \"\"\"A gradient checking routine\"\"\"\n",
    "    \n",
    "    param = getattr(net, param_name)\n",
    "    param_flat_accessor = param.reshape(-1)\n",
    "\n",
    "    grad = np.empty_like(param)\n",
    "    grad_flat_accessor = grad.reshape(-1)\n",
    "\n",
    "    net.forward(X, Y, do_backward=True)\n",
    "    orig_grad = getattr(net, param_name + '_grad')\n",
    "    assert (param.shape == orig_grad.shape)\n",
    "\n",
    "    for i in range(param_flat_accessor.shape[0]):\n",
    "        orig_val = param_flat_accessor[i]\n",
    "        param_flat_accessor[i] = orig_val + eps\n",
    "        _, loss_positive = net.forward(X, Y)\n",
    "        param_flat_accessor[i] = orig_val - eps\n",
    "        _, loss_negative = net.forward(X, Y)\n",
    "        param_flat_accessor[i] = orig_val\n",
    "        grad_flat_accessor[i] = (\n",
    "            loss_positive - loss_negative) / (2 * eps)\n",
    "    assert np.allclose(grad, orig_grad)\n",
    "    return grad, orig_grad, "
   ]
  },
  {
   "cell_type": "code",
   "execution_count": 7,
   "metadata": {},
   "outputs": [],
   "source": [
    "net = SmallNet(2, 2, dtype=np.float64)\n",
    "\n",
    "for param_name in ['W1', 'b1', 'W2', 'b2']:\n",
    "    check_grad(net, param_name, X, Y)"
   ]
  },
  {
   "cell_type": "markdown",
   "metadata": {
    "colab_type": "text",
    "id": "8mUOs3cVvjM2"
   },
   "source": [
    "# Problem 3 [2p]\n",
    "\n",
    "Fill in the details of batch gradient descent below, then train a network to solve 2D XOR problem.\n",
    "\n",
    "Then test the reliability of solving the 3D XOR task."
   ]
  },
  {
   "cell_type": "code",
   "execution_count": 8,
   "metadata": {
    "colab": {
     "base_uri": "https://localhost:8080/",
     "height": 357
    },
    "colab_type": "code",
    "id": "nn2AAoZo0vjU",
    "outputId": "88d897f3-e3ca-47ea-92c5-878964344f23"
   },
   "outputs": [
    {
     "name": "stdout",
     "output_type": "stream",
     "text": [
      "0 0.6989326322822225\n",
      "5000 0.04292138366562172\n",
      "10000 0.010799419550633836\n",
      "15000 0.005719385680964691\n",
      "20000 0.0037854460320127523\n",
      "25000 0.0027905194506661415\n",
      "30000 0.002191891769785515\n",
      "35000 0.001795166589374975\n",
      "40000 0.0015143896665150292\n",
      "45000 0.00130598032216595\n",
      "50000 0.0011455971681769471\n",
      "55000 0.0010186256880781812\n",
      "60000 0.0009157846748762542\n",
      "65000 0.0008309091611276257\n",
      "70000 0.0007597507109548575\n",
      "75000 0.0006992904024732145\n",
      "80000 0.000647326510053181\n",
      "85000 0.0006022170732300875\n",
      "90000 0.0005627136477754002\n",
      "95000 0.0005278507597302423\n"
     ]
    }
   ],
   "source": [
    "net = SmallNet(2, 10, dtype=np.float64)\n",
    "\n",
    "alpha = 1e-1\n",
    "\n",
    "for i in range(100000):\n",
    "    _, loss = net.forward(X, Y, do_backward=True)\n",
    "    if (i % 5000) == 0:\n",
    "        print(i, loss)\n",
    "    for param_name in ['W1', 'b1', 'W2', 'b2']:\n",
    "        param = getattr(net, param_name)\n",
    "        param[:] = param - alpha * getattr(net, param_name + '_grad')"
   ]
  },
  {
   "cell_type": "code",
   "execution_count": 9,
   "metadata": {
    "colab": {
     "base_uri": "https://localhost:8080/",
     "height": 85
    },
    "colab_type": "code",
    "id": "TwpEjpkU1JvK",
    "outputId": "8bcbfa0e-5845-4c53-cf66-3010eec03a67",
    "scrolled": true
   },
   "outputs": [
    {
     "data": {
      "text/plain": [
       "(array([[2.36404015e-04],\n",
       "        [9.99549009e-01],\n",
       "        [9.99426980e-01],\n",
       "        [7.26508908e-04]]), 0.0004968704985738599)"
      ]
     },
     "execution_count": 9,
     "metadata": {},
     "output_type": "execute_result"
    }
   ],
   "source": [
    "net.forward(X, Y, do_backward=True)"
   ]
  },
  {
   "cell_type": "code",
   "execution_count": 10,
   "metadata": {},
   "outputs": [
    {
     "data": {
      "text/plain": [
       "(array([[2.36404015e-04],\n",
       "        [9.99549009e-01],\n",
       "        [9.99426980e-01],\n",
       "        [7.26508908e-04]]), 0.0004968704985738599)"
      ]
     },
     "execution_count": 10,
     "metadata": {},
     "output_type": "execute_result"
    }
   ],
   "source": [
    "net.forward(X, Y, do_backward=True)"
   ]
  },
  {
   "cell_type": "markdown",
   "metadata": {
    "colab_type": "text",
    "id": "w3NiL0ku2Unr"
   },
   "source": [
    "Generate below data for a 3D XOR task. Try a few values of hidden layer size. Plot the reliability of training, i.e. how many trainings succeed for a given hiden layer size.\n",
    "\n",
    "What is easier to train: a smaller, or large network?"
   ]
  },
  {
   "cell_type": "code",
   "execution_count": 12,
   "metadata": {
    "colab": {},
    "colab_type": "code",
    "id": "U0ZMyHqz8xrC",
    "scrolled": true
   },
   "outputs": [
    {
     "name": "stderr",
     "output_type": "stream",
     "text": [
      "\n",
      "\n",
      "\n",
      "  0%|          | 0/5 [00:00<?, ?it/s]\u001b[A\u001b[A\u001b[A\n",
      "\n",
      "\n",
      "\n",
      "  0%|          | 0/10 [00:00<?, ?it/s]\u001b[A\u001b[A\u001b[A\u001b[A\n",
      "\n",
      "\n",
      "\n",
      " 10%|█         | 1/10 [00:08<01:19,  8.80s/it]\u001b[A\u001b[A\u001b[A\u001b[A\n",
      "\n",
      " 95%|█████████▍| 94882/100000 [00:26<00:00, 8563.90it/s]\u001b[A\u001b[A\n",
      "\n",
      "\n",
      "\n",
      " 20%|██        | 2/10 [00:18<01:11,  8.96s/it]\u001b[A\u001b[A\u001b[A\u001b[A\n",
      "\n",
      "\n",
      "\n",
      " 30%|███       | 3/10 [00:27<01:03,  9.06s/it]\u001b[A\u001b[A\u001b[A\u001b[A\n",
      "\n",
      "\n",
      "\n",
      " 40%|████      | 4/10 [00:36<00:55,  9.18s/it]\u001b[A\u001b[A\u001b[A\u001b[A\n",
      "\n",
      "\n",
      "\n",
      " 50%|█████     | 5/10 [00:46<00:46,  9.21s/it]\u001b[A\u001b[A\u001b[A\u001b[A\n",
      "\n",
      "\n",
      "\n",
      " 60%|██████    | 6/10 [00:55<00:36,  9.22s/it]\u001b[A\u001b[A\u001b[A\u001b[A\n",
      "\n",
      "\n",
      "\n",
      " 70%|███████   | 7/10 [01:04<00:27,  9.09s/it]\u001b[A\u001b[A\u001b[A\u001b[A\n",
      "\n",
      "\n",
      "\n",
      " 80%|████████  | 8/10 [01:13<00:18,  9.17s/it]\u001b[A\u001b[A\u001b[A\u001b[A\n",
      "\n",
      "\n",
      "\n",
      " 90%|█████████ | 9/10 [01:22<00:09,  9.03s/it]\u001b[A\u001b[A\u001b[A\u001b[A\n",
      "\n",
      "\n",
      "\n",
      "100%|██████████| 10/10 [01:31<00:00,  9.20s/it]\u001b[A\u001b[A\u001b[A\u001b[A\n",
      "\n",
      "\n",
      "\n",
      " 20%|██        | 1/5 [01:31<06:07, 91.97s/it]\u001b[A\u001b[A\u001b[A\n",
      "\n",
      "\n",
      "\n",
      "  0%|          | 0/10 [00:00<?, ?it/s]\u001b[A\u001b[A\u001b[A\u001b[A\n",
      "\n",
      "\n",
      "\n",
      " 10%|█         | 1/10 [00:09<01:23,  9.28s/it]\u001b[A\u001b[A\u001b[A\u001b[A\n",
      "\n",
      "\n",
      "\n",
      " 20%|██        | 2/10 [00:18<01:14,  9.35s/it]\u001b[A\u001b[A\u001b[A\u001b[A\n",
      "\n",
      "\n",
      "\n",
      " 30%|███       | 3/10 [00:28<01:05,  9.40s/it]\u001b[A\u001b[A\u001b[A\u001b[A\n",
      "\n",
      "\n",
      "\n",
      " 40%|████      | 4/10 [00:37<00:55,  9.23s/it]\u001b[A\u001b[A\u001b[A\u001b[A\n",
      "\n",
      "\n",
      "\n",
      " 50%|█████     | 5/10 [00:46<00:46,  9.30s/it]\u001b[A\u001b[A\u001b[A\u001b[A\n",
      "\n",
      "\n",
      "\n",
      " 60%|██████    | 6/10 [00:57<00:38,  9.64s/it]\u001b[A\u001b[A\u001b[A\u001b[A\n",
      "\n",
      "\n",
      "\n",
      " 70%|███████   | 7/10 [01:06<00:28,  9.44s/it]\u001b[A\u001b[A\u001b[A\u001b[A\n",
      "\n",
      "\n",
      "\n",
      " 80%|████████  | 8/10 [01:14<00:18,  9.23s/it]\u001b[A\u001b[A\u001b[A\u001b[A\n",
      "\n",
      "\n",
      "\n",
      " 90%|█████████ | 9/10 [01:23<00:09,  9.06s/it]\u001b[A\u001b[A\u001b[A\u001b[A\n",
      "\n",
      "\n",
      "\n",
      "100%|██████████| 10/10 [01:32<00:00,  9.26s/it]\u001b[A\u001b[A\u001b[A\u001b[A\n",
      "\n",
      "\n",
      "\n",
      " 40%|████      | 2/5 [03:04<04:36, 92.16s/it]\u001b[A\u001b[A\u001b[A\n",
      "\n",
      "\n",
      "\n",
      "  0%|          | 0/10 [00:00<?, ?it/s]\u001b[A\u001b[A\u001b[A\u001b[A\n",
      "\n",
      "\n",
      "\n",
      " 10%|█         | 1/10 [00:09<01:22,  9.20s/it]\u001b[A\u001b[A\u001b[A\u001b[A\n",
      "\n",
      "\n",
      "\n",
      " 20%|██        | 2/10 [00:17<01:12,  9.07s/it]\u001b[A\u001b[A\u001b[A\u001b[A\n",
      "\n",
      "\n",
      "\n",
      " 30%|███       | 3/10 [00:26<01:02,  9.00s/it]\u001b[A\u001b[A\u001b[A\u001b[A\n",
      "\n",
      "\n",
      "\n",
      " 40%|████      | 4/10 [00:36<00:54,  9.10s/it]\u001b[A\u001b[A\u001b[A\u001b[A\n",
      "\n",
      "\n",
      "\n",
      " 50%|█████     | 5/10 [00:45<00:45,  9.11s/it]\u001b[A\u001b[A\u001b[A\u001b[A\n",
      "\n",
      "\n",
      "\n",
      " 60%|██████    | 6/10 [00:54<00:36,  9.17s/it]\u001b[A\u001b[A\u001b[A\u001b[A\n",
      "\n",
      "\n",
      "\n",
      " 70%|███████   | 7/10 [01:03<00:27,  9.06s/it]\u001b[A\u001b[A\u001b[A\u001b[A\n",
      "\n",
      "\n",
      "\n",
      " 80%|████████  | 8/10 [01:12<00:18,  9.13s/it]\u001b[A\u001b[A\u001b[A\u001b[A\n",
      "\n",
      "\n",
      "\n",
      " 90%|█████████ | 9/10 [01:21<00:09,  9.14s/it]\u001b[A\u001b[A\u001b[A\u001b[A\n",
      "\n",
      "\n",
      "\n",
      "100%|██████████| 10/10 [01:31<00:00,  9.16s/it]\u001b[A\u001b[A\u001b[A\u001b[A\n",
      "\n",
      "\n",
      "\n",
      " 60%|██████    | 3/5 [04:36<03:04, 92.01s/it]\u001b[A\u001b[A\u001b[A\n",
      "\n",
      "\n",
      "\n",
      "  0%|          | 0/10 [00:00<?, ?it/s]\u001b[A\u001b[A\u001b[A\u001b[A\n",
      "\n",
      "\n",
      "\n",
      " 10%|█         | 1/10 [00:11<01:41, 11.24s/it]\u001b[A\u001b[A\u001b[A\u001b[A\n",
      "\n",
      "\n",
      "\n",
      " 20%|██        | 2/10 [00:21<01:27, 10.93s/it]\u001b[A\u001b[A\u001b[A\u001b[A\n",
      "\n",
      "\n",
      "\n",
      " 30%|███       | 3/10 [00:32<01:17, 11.01s/it]\u001b[A\u001b[A\u001b[A\u001b[A\n",
      "\n",
      "\n",
      "\n",
      " 40%|████      | 4/10 [00:42<01:03, 10.64s/it]\u001b[A\u001b[A\u001b[A\u001b[A\n",
      "\n",
      "\n",
      "\n",
      " 50%|█████     | 5/10 [00:51<00:51, 10.20s/it]\u001b[A\u001b[A\u001b[A\u001b[A\n",
      "\n",
      "\n",
      "\n",
      " 60%|██████    | 6/10 [01:00<00:39,  9.94s/it]\u001b[A\u001b[A\u001b[A\u001b[A\n",
      "\n",
      "\n",
      "\n",
      " 70%|███████   | 7/10 [01:10<00:29,  9.72s/it]\u001b[A\u001b[A\u001b[A\u001b[A\n",
      "\n",
      "\n",
      "\n",
      " 80%|████████  | 8/10 [01:20<00:19,  9.91s/it]\u001b[A\u001b[A\u001b[A\u001b[A\n",
      "\n",
      "\n",
      "\n",
      " 90%|█████████ | 9/10 [01:30<00:09,  9.81s/it]\u001b[A\u001b[A\u001b[A\u001b[A\n",
      "\n",
      "\n",
      "\n",
      "100%|██████████| 10/10 [01:40<00:00, 10.01s/it]\u001b[A\u001b[A\u001b[A\u001b[A\n",
      "\n",
      "\n",
      "\n",
      " 80%|████████  | 4/5 [06:16<01:34, 94.45s/it]\u001b[A\u001b[A\u001b[A\n",
      "\n",
      "\n",
      "\n",
      "  0%|          | 0/10 [00:00<?, ?it/s]\u001b[A\u001b[A\u001b[A\u001b[A\n",
      "\n",
      "\n",
      "\n",
      " 10%|█         | 1/10 [00:10<01:31, 10.13s/it]\u001b[A\u001b[A\u001b[A\u001b[A\n",
      "\n",
      "\n",
      "\n",
      " 20%|██        | 2/10 [00:20<01:20, 10.09s/it]\u001b[A\u001b[A\u001b[A\u001b[A\n",
      "\n",
      "\n",
      "\n",
      " 30%|███       | 3/10 [00:30<01:10, 10.11s/it]\u001b[A\u001b[A\u001b[A\u001b[A\n",
      "\n",
      "\n",
      "\n",
      " 40%|████      | 4/10 [00:40<01:00, 10.13s/it]\u001b[A\u001b[A\u001b[A\u001b[A\n",
      "\n",
      "\n",
      "\n",
      " 50%|█████     | 5/10 [00:50<00:50, 10.08s/it]\u001b[A\u001b[A\u001b[A\u001b[A\n",
      "\n",
      "\n",
      "\n",
      " 60%|██████    | 6/10 [01:00<00:40, 10.08s/it]\u001b[A\u001b[A\u001b[A\u001b[A\n",
      "\n",
      "\n",
      "\n",
      " 70%|███████   | 7/10 [01:10<00:30, 10.18s/it]\u001b[A\u001b[A\u001b[A\u001b[A\n",
      "\n",
      "\n",
      "\n",
      " 80%|████████  | 8/10 [01:21<00:20, 10.43s/it]\u001b[A\u001b[A\u001b[A\u001b[A\n",
      "\n",
      "\n",
      "\n",
      " 90%|█████████ | 9/10 [01:32<00:10, 10.54s/it]\u001b[A\u001b[A\u001b[A\u001b[A\n",
      "\n",
      "\n",
      "\n",
      "100%|██████████| 10/10 [01:44<00:00, 10.47s/it]\u001b[A\u001b[A\u001b[A\u001b[A\n",
      "\n",
      "\n",
      "\n",
      "100%|██████████| 5/5 [08:01<00:00, 96.22s/it]\u001b[A\u001b[A\u001b[A\n"
     ]
    }
   ],
   "source": [
    "\n",
    "X3 = np.array([[x, y, z] for x in [0,1] for y in [0,1] for z in [0,1]])\n",
    "Y3 = (np.sum(X3, axis=-1) % 2).reshape(-1, 1)\n",
    "res = defaultdict(list)\n",
    "dims = [2, 3, 5, 10, 20]\n",
    "for hidden_dim in tqdm(dims):\n",
    "    for _try in tqdm(range(10)):\n",
    "        net = SmallNet(3, hidden_dim, dtype=np.float64)\n",
    "        alpha = 1e-1\n",
    "        for i in range(100000):\n",
    "            pred_Y, loss = net.forward(X3, Y3, do_backward=True)\n",
    "            for param_name in ['W1', 'b1', 'W2', 'b2']:\n",
    "                param = getattr(net, param_name)\n",
    "                param[:] = param - alpha * getattr(net, param_name + '_grad')\n",
    "        res[hidden_dim].append(np.sum((Y3 - pred_Y) * (Y3 - pred_Y)))\n"
   ]
  },
  {
   "cell_type": "code",
   "execution_count": 20,
   "metadata": {},
   "outputs": [
    {
     "data": {
      "text/plain": [
       "<BarContainer object of 5 artists>"
      ]
     },
     "execution_count": 20,
     "metadata": {},
     "output_type": "execute_result"
    },
    {
     "data": {
      "image/png": "[encoded data removed]",
      "text/plain": [
       "<Figure size 432x288 with 1 Axes>"
      ]
     },
     "metadata": {
      "needs_background": "light"
     },
     "output_type": "display_data"
    }
   ],
   "source": [
    "plt.bar(dims, -np.log([np.mean(res[x]) for x in dims]))"
   ]
  },
  {
   "cell_type": "markdown",
   "metadata": {
    "colab_type": "text",
    "id": "UuaLEoV-9DLG"
   },
   "source": [
    "# Problem 4 [1bp]\n",
    "\n",
    "Replace the first nonlinearity with the [ReLU](https://en.wikipedia.org/wiki/Rectifier_(neural_networks)) activation function. Verify ho"
   ]
  }
 ],
 "metadata": {
  "colab": {
   "collapsed_sections": [],
   "include_colab_link": true,
   "name": "Assignment2.ipynb",
   "provenance": [],
   "toc_visible": true
  },
  "kernelspec": {
   "display_name": "Python 3",
   "language": "python",
   "name": "python3"
  },
  "language_info": {
   "codemirror_mode": {
    "name": "ipython",
    "version": 3
   },
   "file_extension": ".py",
   "mimetype": "text/x-python",
   "name": "python",
   "nbconvert_exporter": "python",
   "pygments_lexer": "ipython3",
   "version": "3.7.3"
  }
 },
 "nbformat": 4,
 "nbformat_minor": 1
}
